{
 "cells": [
  {
   "cell_type": "markdown",
   "metadata": {},
   "source": [
    "### For each of the following situations, decide if you would model using a regression or classification model. Discuss your reasoning with your mentor next time you meet.\n",
    "\n",
    "<br>The amount a person will spend on a given site in the next 24 months.\n",
    "<br>regression.\n",
    "<br>\n",
    "<br>What color car someone is going to buy.\n",
    "<br>classification.\n",
    "<br>\n",
    "<br>How many children a family will have.\n",
    "<br>classification.\n",
    "<br>\n",
    "<br>If someone will sign up for a service.\n",
    "<br>classification.\n",
    "<br>\n",
    "<br>The number of times someone will get sick in a year.\n",
    "<br>classification.\n",
    "<br>\n",
    "<br>The probability someone will get sick in the next month.\n",
    "<br>regression.\n",
    "<br>\n",
    "<br>Which medicine will work best for a given patient.\n",
    "<br>classification.\n",
    "<br>"
   ]
  }
 ],
 "metadata": {
  "kernelspec": {
   "display_name": "Python 3",
   "language": "python",
   "name": "python3"
  },
  "language_info": {
   "codemirror_mode": {
    "name": "ipython",
    "version": 3
   },
   "file_extension": ".py",
   "mimetype": "text/x-python",
   "name": "python",
   "nbconvert_exporter": "python",
   "pygments_lexer": "ipython3",
   "version": "3.7.0"
  }
 },
 "nbformat": 4,
 "nbformat_minor": 2
}
