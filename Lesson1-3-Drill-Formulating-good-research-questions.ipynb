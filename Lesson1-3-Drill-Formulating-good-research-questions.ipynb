{
 "cells": [
  {
   "cell_type": "markdown",
   "metadata": {},
   "source": [
    "Categorize each of the following research questions as \"good\" or \"bad\", and provide alternative formulations for the bad ones. Save your responses in a document of some kind, submit a link below, and discuss your reasoning with your mentor.\n",
    "\n",
    "What is the 1994 rate of juvenile delinquency in the U.S.?\n",
    "<br>Good.\n",
    "<br>\n",
    "<br>What can we do to reduce juvenile delinquency in the U.S.?\n",
    "<br>Bad. Can education reduce juvenile delinqyency in the U.S?\n",
    "<br>\n",
    "<br>Does education play a role in reducing juvenile delinquents' return to crime?\n",
    "<br>Good.\n",
    "<br>\n",
    "<br>How many customers does AT&T currently serve in Washington, DC?\n",
    "<br>Good.\n",
    "<br>\n",
    "<br>What factors lead consumers to choose AT&T over other service providers?\n",
    "<br>Bad. Does the good signal coverage lead consumers to choose AT&T over other service providers?\n",
    "<br>\n",
    "<br>How can AT&T attract more customers?\n",
    "<br>Bad. Will the new discount promotion attract more customers?\n",
    "<br>\n",
    "<br>Why did the Challenger Shuttle explode?\n",
    "<br>Bad. Did the lack of maintenance cause the Cahllenger Shuttle to explode?\n",
    "<br>\n",
    "<br>Which genes are associated with increased risk of breast cancer?\n",
    "<br>Bad. Did \"X\" gene play a role in increasing the risk of breast cancer?\n",
    "<br>\n",
    "<br>Is it better to read to children at night or in the morning?\n",
    "<br>Good.\n",
    "<br>\n",
    "<br>How does Google’s search algorithm work?\n",
    "<br>Bad. Did Google's latest lauched algorithm increase the accuracy of the search result?"
   ]
  }
 ],
 "metadata": {
  "kernelspec": {
   "display_name": "Python 3",
   "language": "python",
   "name": "python3"
  },
  "language_info": {
   "codemirror_mode": {
    "name": "ipython",
    "version": 3
   },
   "file_extension": ".py",
   "mimetype": "text/x-python",
   "name": "python",
   "nbconvert_exporter": "python",
   "pygments_lexer": "ipython3",
   "version": "3.7.0"
  }
 },
 "nbformat": 4,
 "nbformat_minor": 2
}
